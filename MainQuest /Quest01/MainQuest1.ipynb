{
  "nbformat": 4,
  "nbformat_minor": 0,
  "metadata": {
    "colab": {
      "provenance": [],
      "authorship_tag": "ABX9TyMTHXY9w9sgeCEzqXExVIe6",
      "include_colab_link": true
    },
    "kernelspec": {
      "name": "python3",
      "display_name": "Python 3"
    },
    "language_info": {
      "name": "python"
    }
  },
  "cells": [
    {
      "cell_type": "markdown",
      "metadata": {
        "id": "view-in-github",
        "colab_type": "text"
      },
      "source": [
        "<a href=\"https://colab.research.google.com/github/chezazyzdzezn/AIFFEL_quest_cr/blob/main/MainQuest%20/Quest01/MainQuest1.ipynb\" target=\"_parent\"><img src=\"https://colab.research.google.com/assets/colab-badge.svg\" alt=\"Open In Colab\"/></a>"
      ]
    },
    {
      "cell_type": "markdown",
      "source": [
        "메인 퀘스트 1번: 은행 계좌 만들기"
      ],
      "metadata": {
        "id": "zU-c_wJgjkPJ"
      }
    },
    {
      "cell_type": "code",
      "execution_count": 53,
      "metadata": {
        "id": "RVwJDv8GZQe_"
      },
      "outputs": [],
      "source": [
        "import random  # 랜덤 모듈 임포트(계좌번호 생성)\n",
        "\n",
        "class Account:\n",
        "    # 클래스 변수 (생성된 계좌 수를 저장)\n",
        "    account_count = 0\n",
        "\n",
        "    # 생성자 (예금주와 초기 잔액을 받아 계좌 생성)\n",
        "    def __init__(self, owner, balance):\n",
        "        self.bank = \"SC은행\"  # 은행 이름 고정\n",
        "        self.owner = owner    # 예금주 이름 설정\n",
        "        self.balance = balance  # 초기 잔액 설정\n",
        "        self.deposit_count = 0  # 입금 횟수 초기화\n",
        "\n",
        "        # 계좌번호 생성 (3자리-2자리-6자리 형식으로 랜덤 생성)\n",
        "        num1 = str(random.randint(100, 999))\n",
        "        num2 = str(random.randint(10, 99))\n",
        "        num3 = str(random.randint(100000, 999999))\n",
        "        self.account_number = f\"{num1}-{num2}-{num3}\"\n",
        "\n",
        "        # 클래스 변수 증가 (계좌 개수 증가)\n",
        "        Account.account_count += 1\n",
        "\n",
        "        # 입출금 내역 저장할 빈 리스트(입출금내역 기록)\n",
        "        self.deposit_history_list = []\n",
        "        self.withdraw_history_list = []\n",
        "\n",
        "    # 클래스 메서드 (총 계좌 개수 반환)\n",
        "    @classmethod\n",
        "    def get_account_num(cls):\n",
        "        return cls.account_count  # cls를 통해 account_count 클래스 변수에 접근하고, 그 값을 반환\n",
        "\n",
        "    # 입금 메서드 (입금 처리와 입금 내역 저장)\n",
        "    def deposit(self, amount):\n",
        "        if amount > 0:\n",
        "            self.balance += amount  # 잔액 증가\n",
        "            self.deposit_count += 1  # 입금 횟수 증가\n",
        "            self.deposit_history_list.append((self.deposit_count, \"입금\", amount, self.balance))\n",
        "            print(f\"{amount}원이 입금되었습니다.\")\n",
        "            if self.deposit_count % 5 == 0:  # 입금 횟수가 5회일 때마다 이자 지급\n",
        "                self.deposit_count += 1  # 이자 지급 시 입금 횟수를 추가로 증가시킴\n",
        "                interest = int(self.balance * 0.01)\n",
        "                self.balance += interest\n",
        "                self.deposit_history_list.append((self.deposit_count, \"이자 입금\", interest, self.balance))  # 이자 지급 내역 추가\n",
        "                print(f\"{self.deposit_count}회 이자 지급, {interest}원이 지급되었습니다.\")\n",
        "        else:\n",
        "            print(\"입금은 최소 1원 이상만 가능합니다.\")\n",
        "\n",
        "    # 출금 메서드 (출금 처리와 출금 내역 저장)\n",
        "    def withdraw(self, amount):\n",
        "        if amount > self.balance:\n",
        "            print(\"계좌 잔고 이상으로 출금할 수 없습니다.\")  # 출금 금액이 잔액보다 많을 때\n",
        "        else:\n",
        "            self.balance -= amount  # 잔액 감소\n",
        "            self.withdraw_history_list.append((len(self.withdraw_history_list) + 1, amount, self.balance))\n",
        "            print(f\"{amount}원이 출금되었습니다.\")\n",
        "\n",
        "    # 계좌 정보 출력 메서드\n",
        "    def display_info(self):\n",
        "        balance_formatted = format(self.balance, \",\")  # 잔액을 3자리마다 쉼표 추가\n",
        "        print(f\"은행 이름: {self.bank}\")\n",
        "        print(f\"예금주: {self.owner}\")\n",
        "        print(f\"계좌번호: {self.account_number}\")\n",
        "        print(f\"잔고: {balance_formatted}원\")\n",
        "\n",
        "    # 입금 내역 출력 메서드\n",
        "    def deposit_history(self):\n",
        "        print(\"입금 내역:\")\n",
        "        for i, (index, type, amount, balance) in enumerate(self.deposit_history_list):\n",
        "            print(f\"{i + 1}회: {type} 금액: {amount}원 잔액: {balance}원\")\n",
        "\n",
        "    # 출금 내역 출력 메서드\n",
        "    def withdraw_history(self):\n",
        "        print(\"출금 내역:\")\n",
        "        for i, (index, amount, balance) in enumerate(self.withdraw_history_list):\n",
        "            print(f\"{i + 1}회: 출금 금액: {amount}원 잔액: {balance}원\")"
      ]
    },
    {
      "cell_type": "code",
      "source": [
        "# 계좌 생성 및 테스트\n",
        "my_account = Account(\"차정은\", 1000)\n",
        "second_account = Account(\"박광석\", 30000000)\n",
        "third_account = Account(\"조웅제\", 50000000)"
      ],
      "metadata": {
        "id": "Oo4ZtxOsczDw"
      },
      "execution_count": 54,
      "outputs": []
    },
    {
      "cell_type": "code",
      "source": [
        "# 생성된 계좌의 총 개수 출력\n",
        "print(f\"생성된 계좌의 총 개수: {Account.get_account_num()}\")"
      ],
      "metadata": {
        "colab": {
          "base_uri": "https://localhost:8080/"
        },
        "id": "6i7OIfE4c5G9",
        "outputId": "e2b3ed3f-8fd3-44f5-b31d-135ea9a2e5bf"
      },
      "execution_count": 55,
      "outputs": [
        {
          "output_type": "stream",
          "name": "stdout",
          "text": [
            "생성된 계좌의 총 개수: 3\n"
          ]
        }
      ]
    },
    {
      "cell_type": "code",
      "source": [
        "# 계좌 정보 출력 (100만원 이상 계좌)\n",
        "accounts = [my_account, second_account, third_account]\n",
        "for account in accounts:\n",
        "    if account.balance >= 1000000:\n",
        "        account.display_info()"
      ],
      "metadata": {
        "colab": {
          "base_uri": "https://localhost:8080/"
        },
        "id": "7_nii5G8c-wM",
        "outputId": "dfc756c1-b5f5-4484-d455-d7deaad23dd9"
      },
      "execution_count": 56,
      "outputs": [
        {
          "output_type": "stream",
          "name": "stdout",
          "text": [
            "은행 이름: SC은행\n",
            "예금주: 박광석\n",
            "계좌번호: 465-48-280109\n",
            "잔고: 30,000,000원\n",
            "은행 이름: SC은행\n",
            "예금주: 조웅제\n",
            "계좌번호: 940-90-472214\n",
            "잔고: 50,000,000원\n"
          ]
        }
      ]
    },
    {
      "cell_type": "code",
      "source": [
        "# 입출금 내역 테스트\n",
        "my_account.deposit(1000)\n",
        "my_account.deposit(-1000)  # 잘못된 입금 시도\n",
        "my_account.withdraw(500)\n",
        "my_account.deposit(1000)\n",
        "my_account.deposit(1000)\n",
        "my_account.deposit(1000)\n",
        "my_account.deposit(1000)   # 이자 지급이 발생해야 함\n",
        "my_account.withdraw(3000000)  # 잔고 이상 출금 시도\n",
        "\n",
        "# my_account.deposit(1000)       # 1번째 입금\n",
        "# my_account.deposit(1000)       # 2번째 입금\n",
        "# my_account.deposit(1000)       # 3번째 입금\n",
        "# my_account.deposit(1000)       # 4번째 입금\n",
        "# my_account.deposit(1000)       # 5번째 입금, 이자 지급 발생"
      ],
      "metadata": {
        "colab": {
          "base_uri": "https://localhost:8080/"
        },
        "id": "iEyVOABAdEhn",
        "outputId": "9618fd4b-cede-46b0-e122-edb7cdd61028"
      },
      "execution_count": 57,
      "outputs": [
        {
          "output_type": "stream",
          "name": "stdout",
          "text": [
            "1000원이 입금되었습니다.\n",
            "입금은 최소 1원 이상만 가능합니다.\n",
            "500원이 출금되었습니다.\n",
            "1000원이 입금되었습니다.\n",
            "1000원이 입금되었습니다.\n",
            "1000원이 입금되었습니다.\n",
            "1000원이 입금되었습니다.\n",
            "6회 이자 지급, 55원이 지급되었습니다.\n",
            "계좌 잔고 이상으로 출금할 수 없습니다.\n"
          ]
        }
      ]
    },
    {
      "cell_type": "code",
      "source": [
        "# 입출금 내역 출력\n",
        "my_account.deposit_history()\n",
        "print('_' * 50)\n",
        "my_account.withdraw_history()"
      ],
      "metadata": {
        "colab": {
          "base_uri": "https://localhost:8080/"
        },
        "id": "msLGiPwNdG1k",
        "outputId": "31440605-64f1-4ef9-bd90-a5e7463afc01"
      },
      "execution_count": 58,
      "outputs": [
        {
          "output_type": "stream",
          "name": "stdout",
          "text": [
            "입금 내역:\n",
            "1회: 입금 금액: 1000원 잔액: 2000원\n",
            "2회: 입금 금액: 1000원 잔액: 2500원\n",
            "3회: 입금 금액: 1000원 잔액: 3500원\n",
            "4회: 입금 금액: 1000원 잔액: 4500원\n",
            "5회: 입금 금액: 1000원 잔액: 5500원\n",
            "6회: 이자 입금 금액: 55원 잔액: 5555원\n",
            "__________________________________________________\n",
            "출금 내역:\n",
            "1회: 출금 금액: 500원 잔액: 1500원\n"
          ]
        }
      ]
    },
    {
      "cell_type": "markdown",
      "source": [
        " 메인 퀘스트 2번: 간단한 자동사냥 RPG 만들기"
      ],
      "metadata": {
        "id": "B75HczkijXWt"
      }
    },
    {
      "cell_type": "code",
      "source": [
        "import random\n",
        "\n",
        "# Character 클래스 정의\n",
        "class Character:\n",
        "    def __init__(self, name, level, hp, attack_power, defense):\n",
        "        self.name = name  # 캐릭터의 이름\n",
        "        self.level = level  # 캐릭터의 레벨\n",
        "        self.hp = hp  # 캐릭터의 체력\n",
        "        self.attack_power = attack_power  # 캐릭터의 공격력\n",
        "        self.defense = defense  # 캐릭터의 방어력\n",
        "\n",
        "    # 캐릭터가 살아있는지 확인하는 메서드\n",
        "    def is_alive(self):\n",
        "        return self.hp > 0  # 체력이 0보다 크면 True 반환\n",
        "\n",
        "    # 캐릭터가 피해를 입는 메서드\n",
        "    def take_damage(self, damage):\n",
        "        actual_damage = max(damage - self.defense, 0)  # 방어력을 고려한 실제 데미지 계산\n",
        "        self.hp -= actual_damage  # 체력에서 실제 데미지를 뺌\n",
        "        print(f\"{self.name}가 {actual_damage}의 피해를 입었습니다. 남은 체력: {self.hp}\")\n",
        "\n",
        "    # 타겟을 공격하는 메서드\n",
        "    def attack_target(self, target):\n",
        "        damage = random.randint(1, self.attack_power)  # 1부터 공격력 사이의 랜덤한 데미지 생성\n",
        "        print(f\"{self.name}가 {target.name}를 공격하여 {damage}의 피해를 입혔습니다.\")\n",
        "        target.take_damage(damage)  # 타겟에게 데미지를 입힘\n",
        ""
      ],
      "metadata": {
        "id": "qtMjFs41jdtH"
      },
      "execution_count": 66,
      "outputs": []
    },
    {
      "cell_type": "code",
      "source": [
        "# Player 클래스 정의 (Character 클래스 상속)\n",
        "class Player(Character):\n",
        "    def __init__(self, name):\n",
        "        super().__init__(name, level=1, hp=100, attack_power=25, defense=5)\n",
        "        self.experience = 0  # 플레이어의 경험치\n",
        "\n",
        "    # 경험치를 얻는 메서드\n",
        "    def gain_experience(self, exp):\n",
        "        self.experience += exp  # 경험치 추가\n",
        "        print(f\"{self.name}가 {exp}의 경험치를 획득했습니다. 현재 경험치: {self.experience}\")\n",
        "        self.level_up()  # 레벨업 체크\n",
        "\n",
        "    # 레벨업 메서드\n",
        "    def level_up(self):\n",
        "        while self.experience >= 50:  # 경험치가 50 이상일 때 레벨업\n",
        "            self.level += 1\n",
        "            self.attack_power += 10\n",
        "            self.defense += 5\n",
        "            self.experience -= 50\n",
        "            print(f\"{self.name}가 레벨업했습니다! 현재 레벨: {self.level}, 공격력: {self.attack_power}, 방어력: {self.defense}\")\n"
      ],
      "metadata": {
        "id": "EBwJni2js_Ek"
      },
      "execution_count": 67,
      "outputs": []
    },
    {
      "cell_type": "code",
      "source": [
        "# Monster 클래스 정의 (Character 클래스 상속)\n",
        "class Monster(Character):\n",
        "    def __init__(self, name, level):\n",
        "        hp = random.randint(10, 30) * level  # 몬스터의 체력\n",
        "        attack_power = random.randint(5, 20) * level  # 몬스터의 공격력\n",
        "        defense = random.randint(1, 5) * level  # 몬스터의 방어력\n",
        "        super().__init__(name, level, hp, attack_power, defense)\n",
        "\n",
        "\n",
        "# battle 함수 정의\n",
        "def battle(player, monster):\n",
        "    print(f\"\\n{monster.name}와 전투를 시작합니다!\")\n",
        "    while player.is_alive() and monster.is_alive():  # 둘 중 하나의 체력이 0이 될 때까지 반복\n",
        "        player.attack_target(monster)  # 플레이어가 몬스터를 공격\n",
        "        if monster.is_alive():  # 몬스터가 살아있으면 반격\n",
        "            monster.attack_target(player)\n",
        "\n",
        "    if player.is_alive():  # 플레이어가 살아남았을 경우\n",
        "        player.gain_experience(monster.level * 20)  # 경험치 획득\n",
        "        print(\"전투 승리!\")\n",
        "    else:\n",
        "        print(\"전투 패배..\")\n",
        "\n",
        "\n",
        "# main 함수 정의\n",
        "def main():\n",
        "    # 몬스터 이름과 레벨이 매핑된 딕셔너리 정의\n",
        "    monster_dict = {'슬라임': 1, '고블린': 2, '오크': 3}\n",
        "\n",
        "    # 사용자로부터 플레이어 이름 입력 받기\n",
        "    player_name = input(\"플레이어의 이름을 입력하세요: \")\n",
        "    player = Player(player_name)  # Player 인스턴스 생성\n",
        "\n",
        "    # 각 몬스터와 전투\n",
        "    for monster_name, monster_level in monster_dict.items():\n",
        "        monster = Monster(monster_name, monster_level)  # Monster 인스턴스 생성\n",
        "        battle(player, monster)  # 전투 시작\n",
        "\n",
        "        # 플레이어가 죽으면 게임 종료\n",
        "        if not player.is_alive():\n",
        "            print(\"게임오버\")\n",
        "            break\n",
        "    else:\n",
        "        print(\"모든 몬스터를 처치했습니다. 게임 클리어!\")"
      ],
      "metadata": {
        "id": "3_6mKzUUtFLK"
      },
      "execution_count": 68,
      "outputs": []
    },
    {
      "cell_type": "code",
      "source": [
        "# 게임 시작\n",
        "if __name__ == \"__main__\":\n",
        "    main()"
      ],
      "metadata": {
        "colab": {
          "base_uri": "https://localhost:8080/"
        },
        "id": "xPUFd4mhtGz6",
        "outputId": "52c7e04d-8515-4d14-f01e-da7adc87a685"
      },
      "execution_count": 69,
      "outputs": [
        {
          "output_type": "stream",
          "name": "stdout",
          "text": [
            "플레이어의 이름을 입력하세요: 히어로\n",
            "\n",
            "슬라임와 전투를 시작합니다!\n",
            "히어로가 슬라임를 공격하여 24의 피해를 입혔습니다.\n",
            "슬라임가 20의 피해를 입었습니다. 남은 체력: 4\n",
            "슬라임가 히어로를 공격하여 11의 피해를 입혔습니다.\n",
            "히어로가 6의 피해를 입었습니다. 남은 체력: 94\n",
            "히어로가 슬라임를 공격하여 3의 피해를 입혔습니다.\n",
            "슬라임가 0의 피해를 입었습니다. 남은 체력: 4\n",
            "슬라임가 히어로를 공격하여 13의 피해를 입혔습니다.\n",
            "히어로가 8의 피해를 입었습니다. 남은 체력: 86\n",
            "히어로가 슬라임를 공격하여 23의 피해를 입혔습니다.\n",
            "슬라임가 19의 피해를 입었습니다. 남은 체력: -15\n",
            "히어로가 20의 경험치를 획득했습니다. 현재 경험치: 20\n",
            "전투 승리!\n",
            "\n",
            "고블린와 전투를 시작합니다!\n",
            "히어로가 고블린를 공격하여 8의 피해를 입혔습니다.\n",
            "고블린가 2의 피해를 입었습니다. 남은 체력: 58\n",
            "고블린가 히어로를 공격하여 7의 피해를 입혔습니다.\n",
            "히어로가 2의 피해를 입었습니다. 남은 체력: 84\n",
            "히어로가 고블린를 공격하여 15의 피해를 입혔습니다.\n",
            "고블린가 9의 피해를 입었습니다. 남은 체력: 49\n",
            "고블린가 히어로를 공격하여 6의 피해를 입혔습니다.\n",
            "히어로가 1의 피해를 입었습니다. 남은 체력: 83\n",
            "히어로가 고블린를 공격하여 15의 피해를 입혔습니다.\n",
            "고블린가 9의 피해를 입었습니다. 남은 체력: 40\n",
            "고블린가 히어로를 공격하여 4의 피해를 입혔습니다.\n",
            "히어로가 0의 피해를 입었습니다. 남은 체력: 83\n",
            "히어로가 고블린를 공격하여 11의 피해를 입혔습니다.\n",
            "고블린가 5의 피해를 입었습니다. 남은 체력: 35\n",
            "고블린가 히어로를 공격하여 2의 피해를 입혔습니다.\n",
            "히어로가 0의 피해를 입었습니다. 남은 체력: 83\n",
            "히어로가 고블린를 공격하여 24의 피해를 입혔습니다.\n",
            "고블린가 18의 피해를 입었습니다. 남은 체력: 17\n",
            "고블린가 히어로를 공격하여 11의 피해를 입혔습니다.\n",
            "히어로가 6의 피해를 입었습니다. 남은 체력: 77\n",
            "히어로가 고블린를 공격하여 8의 피해를 입혔습니다.\n",
            "고블린가 2의 피해를 입었습니다. 남은 체력: 15\n",
            "고블린가 히어로를 공격하여 2의 피해를 입혔습니다.\n",
            "히어로가 0의 피해를 입었습니다. 남은 체력: 77\n",
            "히어로가 고블린를 공격하여 24의 피해를 입혔습니다.\n",
            "고블린가 18의 피해를 입었습니다. 남은 체력: -3\n",
            "히어로가 40의 경험치를 획득했습니다. 현재 경험치: 60\n",
            "히어로가 레벨업했습니다! 현재 레벨: 2, 공격력: 35, 방어력: 10\n",
            "전투 승리!\n",
            "\n",
            "오크와 전투를 시작합니다!\n",
            "히어로가 오크를 공격하여 27의 피해를 입혔습니다.\n",
            "오크가 12의 피해를 입었습니다. 남은 체력: 42\n",
            "오크가 히어로를 공격하여 2의 피해를 입혔습니다.\n",
            "히어로가 0의 피해를 입었습니다. 남은 체력: 77\n",
            "히어로가 오크를 공격하여 33의 피해를 입혔습니다.\n",
            "오크가 18의 피해를 입었습니다. 남은 체력: 24\n",
            "오크가 히어로를 공격하여 16의 피해를 입혔습니다.\n",
            "히어로가 6의 피해를 입었습니다. 남은 체력: 71\n",
            "히어로가 오크를 공격하여 19의 피해를 입혔습니다.\n",
            "오크가 4의 피해를 입었습니다. 남은 체력: 20\n",
            "오크가 히어로를 공격하여 29의 피해를 입혔습니다.\n",
            "히어로가 19의 피해를 입었습니다. 남은 체력: 52\n",
            "히어로가 오크를 공격하여 10의 피해를 입혔습니다.\n",
            "오크가 0의 피해를 입었습니다. 남은 체력: 20\n",
            "오크가 히어로를 공격하여 26의 피해를 입혔습니다.\n",
            "히어로가 16의 피해를 입었습니다. 남은 체력: 36\n",
            "히어로가 오크를 공격하여 14의 피해를 입혔습니다.\n",
            "오크가 0의 피해를 입었습니다. 남은 체력: 20\n",
            "오크가 히어로를 공격하여 14의 피해를 입혔습니다.\n",
            "히어로가 4의 피해를 입었습니다. 남은 체력: 32\n",
            "히어로가 오크를 공격하여 15의 피해를 입혔습니다.\n",
            "오크가 0의 피해를 입었습니다. 남은 체력: 20\n",
            "오크가 히어로를 공격하여 5의 피해를 입혔습니다.\n",
            "히어로가 0의 피해를 입었습니다. 남은 체력: 32\n",
            "히어로가 오크를 공격하여 10의 피해를 입혔습니다.\n",
            "오크가 0의 피해를 입었습니다. 남은 체력: 20\n",
            "오크가 히어로를 공격하여 26의 피해를 입혔습니다.\n",
            "히어로가 16의 피해를 입었습니다. 남은 체력: 16\n",
            "히어로가 오크를 공격하여 34의 피해를 입혔습니다.\n",
            "오크가 19의 피해를 입었습니다. 남은 체력: 1\n",
            "오크가 히어로를 공격하여 17의 피해를 입혔습니다.\n",
            "히어로가 7의 피해를 입었습니다. 남은 체력: 9\n",
            "히어로가 오크를 공격하여 15의 피해를 입혔습니다.\n",
            "오크가 0의 피해를 입었습니다. 남은 체력: 1\n",
            "오크가 히어로를 공격하여 32의 피해를 입혔습니다.\n",
            "히어로가 22의 피해를 입었습니다. 남은 체력: -13\n",
            "전투 패배..\n",
            "게임오버\n"
          ]
        }
      ]
    }
  ]
}